{
 "cells": [
  {
   "cell_type": "code",
   "execution_count": 2,
   "id": "efaec2ee-8879-499a-ae3a-bc592509773d",
   "metadata": {},
   "outputs": [
    {
     "name": "stdout",
     "output_type": "stream",
     "text": [
      "Name: John Doe\n",
      "Age: 30\n",
      "Address: 1234 Elm Street, Cityville, USA\n",
      "Phone No: 123-456-7890\n",
      "Email: johndoe@example.com\n",
      "CNIC: 12345-6789012-3\n"
     ]
    }
   ],
   "source": [
    "\n",
    "name = \"John Doe\"\n",
    "age = 30\n",
    "address = \"1234 Elm Street, Cityville, USA\"\n",
    "phone_no = \"123-456-7890\"\n",
    "email = \"johndoe@example.com\"\n",
    "cnic = \"12345-6789012-3\"\n",
    "\n",
    "print(\"Name:\", name)\n",
    "print(\"Age:\", age)\n",
    "print(\"Address:\", address)\n",
    "print(\"Phone No:\", phone_no)\n",
    "print(\"Email:\", email)\n",
    "print(\"CNIC:\", cnic)\n"
   ]
  },
  {
   "cell_type": "code",
   "execution_count": 3,
   "id": "c28636b1-2a91-4888-92fd-4e42f66745d6",
   "metadata": {},
   "outputs": [
    {
     "name": "stdin",
     "output_type": "stream",
     "text": [
      "Enter your SAP ID:  1881\n",
      "Enter your name:  bisma\n"
     ]
    },
    {
     "name": "stdout",
     "output_type": "stream",
     "text": [
      "Hey bisma, your SAP ID is 1881\n"
     ]
    }
   ],
   "source": [
    "\n",
    "sap_id = input(\"Enter your SAP ID: \")\n",
    "name = input(\"Enter your name: \")\n",
    "\n",
    "\n",
    "print(f\"Hey {name}, your SAP ID is {sap_id}\")\n"
   ]
  },
  {
   "cell_type": "code",
   "execution_count": 4,
   "id": "7f58c67c-c971-4b78-81e7-04649dd6d2fb",
   "metadata": {},
   "outputs": [
    {
     "name": "stdin",
     "output_type": "stream",
     "text": [
      "Enter your SAP ID:  33\n",
      "Enter your name:  bima Rafique\n"
     ]
    },
    {
     "name": "stdout",
     "output_type": "stream",
     "text": [
      "Hey bima Rafique, your SAP ID is 33\n"
     ]
    }
   ],
   "source": [
    "\n",
    "sap_id = input(\"Enter your SAP ID: \")\n",
    "name = input(\"Enter your name: \")\n",
    "\n",
    "print(f\"Hey {name}, your SAP ID is {sap_id}\")\n"
   ]
  },
  {
   "cell_type": "code",
   "execution_count": 5,
   "id": "24ccbd4f-ac92-4bf6-82ba-6680e2aa708b",
   "metadata": {},
   "outputs": [
    {
     "name": "stdout",
     "output_type": "stream",
     "text": [
      "After swapping:\n",
      "a = 10\n",
      "b = 5\n"
     ]
    }
   ],
   "source": [
    "\n",
    "a = 5\n",
    "b = 10\n",
    "\n",
    "a, b = b, a\n",
    "\n",
    "print(\"After swapping:\")\n",
    "print(\"a =\", a)\n",
    "print(\"b =\", b)\n"
   ]
  },
  {
   "cell_type": "code",
   "execution_count": 6,
   "id": "dc4f5264-987d-46db-97ce-b696ed58883f",
   "metadata": {},
   "outputs": [
    {
     "name": "stdout",
     "output_type": "stream",
     "text": [
      "False\n",
      "True\n",
      "True\n",
      "False\n",
      "True\n",
      "False\n"
     ]
    }
   ],
   "source": [
    "\n",
    "x = 7\n",
    "y = 5\n",
    "\n",
    "\n",
    "print(x == y)\n",
    "print(x != y)\n",
    "print(x > y)\n",
    "print(x < y)\n",
    "print(x >= y)\n",
    "print(x <= y)\n"
   ]
  },
  {
   "cell_type": "code",
   "execution_count": 7,
   "id": "7967d425-5916-4da7-afd9-47d1522922ad",
   "metadata": {},
   "outputs": [
    {
     "name": "stdout",
     "output_type": "stream",
     "text": [
      "Sum of numbers: 17\n"
     ]
    }
   ],
   "source": [
    "def sum_numbers(numbers):\n",
    "    return sum(numbers)\n",
    "\n",
    "sample_list = [7, 5, 3, 0, 2]\n",
    "print(\"Sum of numbers:\", sum_numbers(sample_list))\n"
   ]
  },
  {
   "cell_type": "code",
   "execution_count": 8,
   "id": "69493fcf-50cc-4f63-b762-97e8afc497c5",
   "metadata": {},
   "outputs": [
    {
     "name": "stdout",
     "output_type": "stream",
     "text": [
      "Student with roll number 102 is Present.\n"
     ]
    }
   ],
   "source": [
    "def check_presence(roll_number):\n",
    "    present_students = [101, 102, 103, 104, 105]\n",
    "    return \"Present\" if roll_number in present_students else \"Absent\"\n",
    "\n",
    "roll_number = 102\n",
    "print(f\"Student with roll number {roll_number} is {check_presence(roll_number)}.\")\n"
   ]
  },
  {
   "cell_type": "code",
   "execution_count": 9,
   "id": "d961bda5-22c5-4f89-a619-b260fa130684",
   "metadata": {},
   "outputs": [
    {
     "name": "stdout",
     "output_type": "stream",
     "text": [
      "Name: Alice\n",
      "Age: 25\n",
      "Updated Name: Bob\n",
      "Updated Age: 30\n"
     ]
    }
   ],
   "source": [
    "\n",
    "class Person:\n",
    "    def __init__(self, name, age):\n",
    "        self.name = name\n",
    "        self.age = age\n",
    "\n",
    "\n",
    "person1 = Person(\"Alice\", 25)\n",
    "\n",
    "# Access and print attributes\n",
    "print(\"Name:\", person1.name)\n",
    "print(\"Age:\", person1.age)\n",
    "\n",
    "\n",
    "person1.name = \"Bob\"\n",
    "person1.age = 30\n",
    "\n",
    "print(\"Updated Name:\", person1.name)\n",
    "print(\"Updated Age:\", person1.age)\n"
   ]
  },
  {
   "cell_type": "code",
   "execution_count": 10,
   "id": "710a5c04-8146-4c6c-8863-2a51647117b8",
   "metadata": {},
   "outputs": [
    {
     "name": "stdout",
     "output_type": "stream",
     "text": [
      "Car 1: Toyota Corolla 2020\n",
      "Car 2: Honda Civic 2019\n",
      "Car 3: Ford Mustang 2021\n"
     ]
    }
   ],
   "source": [
    "\n",
    "class Car:\n",
    "    def __init__(self, model, year):\n",
    "        self.model = model\n",
    "        self.year = year\n",
    "\n",
    "\n",
    "car1 = Car(\"Toyota Corolla\", 2020)\n",
    "car2 = Car(\"Honda Civic\", 2019)\n",
    "car3 = Car(\"Ford Mustang\", 2021)\n",
    "\n",
    "print(\"Car 1:\", car1.model, car1.year)\n",
    "print(\"Car 2:\", car2.model, car2.year)\n",
    "print(\"Car 3:\", car3.model, car3.year)\n"
   ]
  },
  {
   "cell_type": "code",
   "execution_count": 11,
   "id": "dc7c322b-65bb-493f-8f6f-a5614809f998",
   "metadata": {},
   "outputs": [
    {
     "name": "stdout",
     "output_type": "stream",
     "text": [
      "Name: Charlie\n",
      "Age: 20\n",
      "Grades: [85, 90, 78, 92]\n",
      "Average Grade: 86.25\n"
     ]
    }
   ],
   "source": [
    "\n",
    "class Student:\n",
    "    def __init__(self, name, age, grades):\n",
    "        self.name = name\n",
    "        self.age = age\n",
    "        self.grades = grades\n",
    "\n",
    "    def average_grade(self):\n",
    "        return sum(self.grades) / len(self.grades) if self.grades else 0\n",
    "\n",
    "student1 = Student(\"Charlie\", 20, [85, 90, 78, 92])\n",
    "\n",
    "print(\"Name:\", student1.name)\n",
    "print(\"Age:\", student1.age)\n",
    "print(\"Grades:\", student1.grades)\n",
    "\n",
    "print(\"Average Grade:\", student1.average_grade())\n"
   ]
  },
  {
   "cell_type": "code",
   "execution_count": 12,
   "id": "2847fc08-8bc7-4ec6-b4d0-d1ad7eaf299d",
   "metadata": {},
   "outputs": [
    {
     "name": "stdout",
     "output_type": "stream",
     "text": [
      "Boolean Array:\n",
      " [[ True False]\n",
      " [ True  True]]\n"
     ]
    }
   ],
   "source": [
    "import numpy as np\n",
    "\n",
    "array_2d = np.array([[1.5, 0.0], [2.3, 3.7]], dtype=float)\n",
    "\n",
    "array_bool = array_2d.astype(bool)\n",
    "\n",
    "print(\"Boolean Array:\\n\", array_bool)\n"
   ]
  },
  {
   "cell_type": "code",
   "execution_count": 13,
   "id": "f166dd4d-edd0-4605-8dc6-e6e1f544d377",
   "metadata": {},
   "outputs": [
    {
     "name": "stdout",
     "output_type": "stream",
     "text": [
      "Updated Array: [10 20 55 30 40]\n"
     ]
    }
   ],
   "source": [
    "import numpy as np\n",
    "\n",
    "array = np.array([10, 20, 30, 40])\n",
    "\n",
    "array = np.insert(array, 2, 55)\n",
    "\n",
    "print(\"Updated Array:\", array)\n"
   ]
  },
  {
   "cell_type": "code",
   "execution_count": 14,
   "id": "5731ad7b-55c6-4d33-8b0c-a3fd26f54d6e",
   "metadata": {},
   "outputs": [
    {
     "name": "stdout",
     "output_type": "stream",
     "text": [
      "Generated Sequence: [  0   2   4   6   8  10  12  14  16  18  20  22  24  26  28  30  32  34\n",
      "  36  38  40  42  44  46  48  50  52  54  56  58  60  62  64  66  68  70\n",
      "  72  74  76  78  80  82  84  86  88  90  92  94  96  98 100]\n"
     ]
    }
   ],
   "source": [
    "import numpy as np\n",
    "\n",
    "sequence = np.arange(0, 101, 2)\n",
    "\n",
    "print(\"Generated Sequence:\", sequence)\n"
   ]
  },
  {
   "cell_type": "code",
   "execution_count": 15,
   "id": "59797756-9a1b-470d-92eb-858bb8f9560a",
   "metadata": {},
   "outputs": [
    {
     "name": "stdout",
     "output_type": "stream",
     "text": [
      "Result of Matrix Multiplication:\n",
      " [[19 22]\n",
      " [43 50]]\n"
     ]
    }
   ],
   "source": [
    "import numpy as np\n",
    "\n",
    "matrix1 = np.array([[1, 2], [3, 4]])\n",
    "matrix2 = np.array([[5, 6], [7, 8]])\n",
    "\n",
    "result = np.dot(matrix1, matrix2)\n",
    "\n",
    "print(\"Result of Matrix Multiplication:\\n\", result)\n"
   ]
  },
  {
   "cell_type": "code",
   "execution_count": 16,
   "id": "b958fc0d-97fc-41b1-bcda-2aaffb43f091",
   "metadata": {},
   "outputs": [
    {
     "name": "stdout",
     "output_type": "stream",
     "text": [
      "Is 5 present in the array? True\n"
     ]
    }
   ],
   "source": [
    "import numpy as np\n",
    "\n",
    "array_1d = np.array([1, 3, 5, 7, 9])\n",
    "\n",
    "number_to_check = 5\n",
    "\n",
    "is_present = number_to_check in array_1d\n",
    "\n",
    "print(f\"Is {number_to_check} present in the array?\", is_present)\n"
   ]
  },
  {
   "cell_type": "code",
   "execution_count": 17,
   "id": "d762ef11-9295-4596-bb75-e6760ce33f5c",
   "metadata": {},
   "outputs": [
    {
     "name": "stdout",
     "output_type": "stream",
     "text": [
      "Initial Environment State: {'A': 0, 'B': 1, 'C': 1, 'D': 1}\n",
      "Portion A is already clean.\n",
      "Portion B is dirty. Cleaning now...\n",
      "Portion B is now clean.\n",
      "Portion C is dirty. Cleaning now...\n",
      "Portion C is now clean.\n",
      "Portion D is dirty. Cleaning now...\n",
      "Portion D is now clean.\n",
      "Final Environment State: {'A': 0, 'B': 0, 'C': 0, 'D': 0}\n"
     ]
    }
   ],
   "source": [
    "import random\n",
    "\n",
    "environment = {\n",
    "    \"A\": random.choice([0, 1]),\n",
    "    \"B\": random.choice([0, 1]),\n",
    "    \"C\": random.choice([0, 1]),\n",
    "    \"D\": random.choice([0, 1])\n",
    "}\n",
    "\n",
    "def vacuum_agent(environment):\n",
    "    for portion, state in environment.items():\n",
    "        if state == 1:\n",
    "            print(f\"Portion {portion} is dirty. Cleaning now...\")\n",
    "            environment[portion] = 0  # Clean the portion\n",
    "            print(f\"Portion {portion} is now clean.\")\n",
    "        else:\n",
    "            print(f\"Portion {portion} is already clean.\")\n",
    "\n",
    "print(\"Initial Environment State:\", environment)\n",
    "\n",
    "vacuum_agent(environment)\n",
    "\n",
    "print(\"Final Environment State:\", environment)\n"
   ]
  },
  {
   "cell_type": "code",
   "execution_count": 18,
   "id": "73bd8599-d09a-4db7-ab98-1790e00952c7",
   "metadata": {},
   "outputs": [
    {
     "name": "stdin",
     "output_type": "stream",
     "text": [
      "Enter the number of players:  8\n"
     ]
    },
    {
     "name": "stdout",
     "output_type": "stream",
     "text": [
      "Player P8 with card: 5 of Spades assigned 5 of Spades\n",
      "Player P2 with card: 9 of Spades assigned 9 of Spades\n",
      "Player P5 with card: 3 of Spades assigned 3 of Spades\n",
      "Player P1 with card: 8 of Spades assigned 8 of Spades\n",
      "Player P3 with card: 7 of Spades assigned 7 of Spades\n",
      "Player P4 with card: 6 of Spades assigned 6 of Spades\n",
      "Player P7 with card: 2 of Spades assigned 2 of Spades\n",
      "Player P6 with card: 4 of Spades assigned 4 of Spades\n",
      "\n",
      "The winner is P2 with the 9 of Spades\n"
     ]
    }
   ],
   "source": [
    "import random\n",
    "\n",
    "suits_priority = {'Spades': 4, 'Hearts': 3, 'Diamonds': 2, 'Clubs': 1}\n",
    "ranks = [2, 3, 4, 5, 6, 7, 8, 9, 10, 11, 12, 13, 14]  # 11=Jack, 12=Queen, 13=King, 14=Ace\n",
    "\n",
    "class Card:\n",
    "    def __init__(self, rank, suit):\n",
    "        self.rank = rank\n",
    "        self.suit = suit\n",
    "\n",
    "    def __repr__(self):\n",
    "        return f\"{self.rank} of {self.suit}\"\n",
    "\n",
    "    def priority(self):\n",
    "        return (self.rank, suits_priority[self.suit])\n",
    "\n",
    "class Player:\n",
    "    def __init__(self, name):\n",
    "        self.name = name\n",
    "        self.card = None\n",
    "\n",
    "    def __repr__(self):\n",
    "        return f\"Player {self.name} with card: {self.card}\"\n",
    "\n",
    "class Casino:\n",
    "    def __init__(self, n_players):\n",
    "        self.n_players = n_players\n",
    "        self.players = [Player(f\"P{i+1}\") for i in range(n_players)]\n",
    "        self.cards = [Card(rank, suit) for suit in suits_priority.keys() for rank in ranks][:n_players]\n",
    "        random.shuffle(self.cards)\n",
    "\n",
    "    def roll_dice(self):\n",
    "        return random.randint(1, self.n_players)\n",
    "\n",
    "    def assign_cards(self):\n",
    "        assigned_players = set()\n",
    "        assigned_cards = set()\n",
    "\n",
    "        while len(assigned_players) < self.n_players:\n",
    "            player_roll = self.roll_dice()\n",
    "            card_roll = self.roll_dice()\n",
    "\n",
    "            player = self.players[player_roll - 1]\n",
    "            card = self.cards[card_roll - 1]\n",
    "\n",
    "            if player not in assigned_players and card not in assigned_cards:\n",
    "                player.card = card\n",
    "                assigned_players.add(player)\n",
    "                assigned_cards.add(card)\n",
    "                print(f\"{player} assigned {card}\")\n",
    "\n",
    "    def announce_winner(self):\n",
    "        winner = max(self.players, key=lambda player: player.card.priority() if player.card else (0, 0))\n",
    "        print(f\"\\nThe winner is {winner.name} with the {winner.card}\")\n",
    "\n",
    "n = int(input(\"Enter the number of players: \"))\n",
    "casino = Casino(n)\n",
    "casino.assign_cards()\n",
    "casino.announce_winner()\n"
   ]
  },
  {
   "cell_type": "code",
   "execution_count": null,
   "id": "fe21aae9-672a-42f9-a972-5889ddd73f62",
   "metadata": {},
   "outputs": [],
   "source": [
    "class UtilityBasedAgent:\n",
    "    def __init__(self, preferences):\n",
    "        self.snacks = {\n",
    "            'Chips': 5,     # Utility score\n",
    "            'Chocolate': 8, # Utility score\n",
    "            'Fruits': 7,    # Utility score\n",
    "            'Cookies': 6    # Utility score\n",
    "        }\n",
    "        self.preferences = preferences\n",
    "\n",
    "    def choose_snack(self):\n",
    "        max_utility = -1\n",
    "        best_snack = None\n",
    "\n",
    "        for snack, utility in self.snacks.items():\n",
    "            if snack in self.preferences and utility > max_utility:\n",
    "                max_utility = utility\n",
    "                best_snack = snack\n",
    "        \n",
    "        return best_snack\n",
    "\n",
    "# Example usage:\n",
    "preferences = ['Chips', 'Fruits', 'Chocolate']\n",
    "utility_based_agent = UtilityBasedAgent(preferences)\n",
    "recommended_snack = utility_based_agent.choose_snack()\n",
    "print(f\"Recommended Snack: {recommended_snack}\")\n",
    "class ModelBasedAgent:\n",
    "    def __init__(self):\n",
    "        self.environment = {'light': 'off', 'door': 'closed'}\n",
    "\n",
    "    def perceive(self, perception):\n",
    "        self.environment.update(perception)\n",
    "\n",
    "    def act(self):\n",
    "        if self.environment['light'] == 'off':\n",
    "            self.environment['light'] = 'on'\n",
    "            action = 'Turned on the light.'\n",
    "        else:\n",
    "            action = 'Light is already on.'\n",
    "\n",
    "        if self.environment['door'] == 'closed':\n",
    "            self.environment['door'] = 'open'\n",
    "            action += ' Opened the door.'\n",
    "        else:\n",
    "            action += ' Door is already open.'\n",
    "\n",
    "        return action, self.environment\n",
    "\n",
    "# Example usage:\n",
    "model_based_agent = ModelBasedAgent()\n",
    "model_based_agent.perceive({'light': 'off', 'door': 'closed'})\n",
    "action, updated_environment = model_based_agent.act()\n",
    "print(action)\n",
    "print(f\"Updated Environment: {updated_environment}\")\n",
    "\n",
    "class GoalBasedAgent:\n",
    "    def __init__(self, start, goal):\n",
    "        self.position = start\n",
    "        self.goal = goal\n",
    "\n",
    "    def move(self):\n",
    "        if self.position < self.goal:\n",
    "            self.position += 1  # Move right\n",
    "        elif self.position > self.goal:\n",
    "            self.position -= 1  # Move left\n",
    "        return self.position\n",
    "\n",
    "    def is_goal_reached(self):\n",
    "        return self.position == self.goal\n",
    "\n",
    "# Example usage:\n",
    "goal_based_agent = GoalBasedAgent(start=0, goal=5)\n",
    "while not goal_based_agent.is_goal_reached():\n",
    "    print(f\"Current Position: {goal_based_agent.position}\")\n",
    "    goal_based_agent.move()\n",
    "print(f\"Goal Reached at Position: {goal_based_agent.position}\")\n"
   ]
  },
  {
   "cell_type": "code",
   "execution_count": null,
   "id": "9d19c736-fd60-452a-8191-01095f474892",
   "metadata": {},
   "outputs": [],
   "source": [
    "graph = {'A':['B','C'],\n",
    "         'B':['D'],\n",
    "         'C':['E'],\n",
    "         'D':['C','E'],\n",
    "         'E':[]}\n",
    "def find_path(graph, start, end, path=[]):\n",
    "    path = path + [start]\n",
    "    if start == end:\n",
    "        return path\n",
    "    if start not in graph:\n",
    "        return None\n",
    "    for node in graph[start]:\n",
    "        if node not in path:\n",
    "            newpath = find_path(graph, node, end, path)\n",
    "            if newpath: return newpath\n",
    "    return None\n",
    "print(find_path(graph, 'A', 'D'))"
   ]
  },
  {
   "cell_type": "code",
   "execution_count": null,
   "id": "322ee16d-7826-42d1-bbee-f70a9a3b4e11",
   "metadata": {},
   "outputs": [],
   "source": [
    "import heapq\n",
    "\n",
    "directed_graph = {\n",
    "    'A': ['B', 'C'],\n",
    "    'B': ['D'],\n",
    "    'C': ['E'],\n",
    "    'D': ['F'],\n",
    "    'E': [],\n",
    "    'F': [],\n",
    "    'G': []\n",
    "}\n",
    "\n",
    "undirected_graph = {\n",
    "    'A': ['B', 'C'],\n",
    "    'B': ['A', 'D'],\n",
    "    'C': ['A', 'E'],\n",
    "    'D': ['B', 'F'],\n",
    "    'E': ['C'],\n",
    "    'F': ['D'],\n",
    "    'G': []\n",
    "}\n",
    "\n",
    "weighted_graph = {\n",
    "    'A': {'B': 2, 'C': 4},\n",
    "    'B': {'D': 7},\n",
    "    'C': {'E': 3},\n",
    "    'D': {'F': 1},\n",
    "    'E': {},\n",
    "    'F': {},\n",
    "    'G': {}\n",
    "}\n",
    "\n",
    "def find_neighbors(graph, node):\n",
    "    return graph.get(node, [])\n",
    "\n",
    "def edge_exists(graph, node1, node2):\n",
    "    return node2 in graph.get(node1, [])\n",
    "\n",
    "def dijkstra(graph, start, end):\n",
    "    queue = [(0, start)]\n",
    "    distances = {node: float('inf') for node in graph}\n",
    "    distances[start] = 0\n",
    "    shortest_path = {node: None for node in graph}\n",
    "\n",
    "    while queue:\n",
    "        (cost, current_node) = heapq.heappop(queue)\n",
    "\n",
    "        if current_node == end:\n",
    "            path = []\n",
    "            while current_node:\n",
    "                path.insert(0, current_node)\n",
    "                current_node = shortest_path[current_node]\n",
    "            return path, cost\n",
    "\n",
    "        for neighbor, weight in graph[current_node].items():\n",
    "            distance = cost + weight\n",
    "            if distance < distances[neighbor]:\n",
    "                distances[neighbor] = distance\n",
    "                shortest_path[neighbor] = current_node\n",
    "                heapq.heappush(queue, (distance, neighbor))\n",
    "\n",
    "    return None, float('inf')\n",
    "\n",
    "print(\"Directed Graph Neighbors:\")\n",
    "print(\"Neighbors of node 'A':\", find_neighbors(directed_graph, 'A'))\n",
    "print(\"Does edge from 'A' to 'B' exist?\", edge_exists(directed_graph, 'A', 'B'))\n",
    "\n",
    "print(\"\\nUndirected Graph Neighbors:\")\n",
    "print(\"Neighbors of node 'A':\", find_neighbors(undirected_graph, 'A'))\n",
    "print(\"Does edge from 'A' to 'C' exist?\", edge_exists(undirected_graph, 'A', 'C'))\n",
    "\n",
    "print(\"\\nWeighted Graph Shortest Path:\")\n",
    "shortest_path, total_cost = dijkstra(weighted_graph, 'A', 'F')\n",
    "if shortest_path:\n",
    "    print(f\"Shortest path from 'A' to 'F': {shortest_path} with total cost {total_cost}\")\n",
    "else:\n",
    "    print(\"No path found from 'A' to 'F'\")"
   ]
  },
  {
   "cell_type": "code",
   "execution_count": null,
   "id": "b8dc4f70-905d-45e3-83a6-8513ad72d47e",
   "metadata": {},
   "outputs": [],
   "source": []
  }
 ],
 "metadata": {
  "kernelspec": {
   "display_name": "Python 3 (ipykernel)",
   "language": "python",
   "name": "python3"
  },
  "language_info": {
   "codemirror_mode": {
    "name": "ipython",
    "version": 3
   },
   "file_extension": ".py",
   "mimetype": "text/x-python",
   "name": "python",
   "nbconvert_exporter": "python",
   "pygments_lexer": "ipython3",
   "version": "3.11.7"
  }
 },
 "nbformat": 4,
 "nbformat_minor": 5
}
